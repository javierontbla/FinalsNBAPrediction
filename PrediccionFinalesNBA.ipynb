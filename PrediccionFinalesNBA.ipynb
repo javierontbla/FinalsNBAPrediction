{
 "cells": [
  {
   "cell_type": "code",
   "execution_count": 2,
   "id": "65df1c4c",
   "metadata": {},
   "outputs": [],
   "source": [
    "import pandas as pd\n",
    "import numpy as np\n",
    "import warnings\n",
    "from sklearn.preprocessing import OrdinalEncoder, StandardScaler, MinMaxScaler\n",
    "from sklearn.model_selection import train_test_split, cross_val_score\n",
    "from sklearn.linear_model import LinearRegression\n",
    "from sklearn.tree import DecisionTreeRegressor\n",
    "from sklearn.metrics import mean_squared_error"
   ]
  },
  {
   "cell_type": "code",
   "execution_count": 3,
   "id": "d25ff72f",
   "metadata": {},
   "outputs": [
    {
     "data": {
      "text/html": [
       "<div>\n",
       "<style scoped>\n",
       "    .dataframe tbody tr th:only-of-type {\n",
       "        vertical-align: middle;\n",
       "    }\n",
       "\n",
       "    .dataframe tbody tr th {\n",
       "        vertical-align: top;\n",
       "    }\n",
       "\n",
       "    .dataframe thead th {\n",
       "        text-align: right;\n",
       "    }\n",
       "</style>\n",
       "<table border=\"1\" class=\"dataframe\">\n",
       "  <thead>\n",
       "    <tr style=\"text-align: right;\">\n",
       "      <th></th>\n",
       "      <th>Team 1</th>\n",
       "      <th>Team 2</th>\n",
       "      <th>Team 1 Points</th>\n",
       "      <th>Team 2 Points</th>\n",
       "      <th>Team 1 Location</th>\n",
       "      <th>Team 2 Location</th>\n",
       "    </tr>\n",
       "  </thead>\n",
       "  <tbody>\n",
       "    <tr>\n",
       "      <th>0</th>\n",
       "      <td>Boston</td>\n",
       "      <td>Philadelphia</td>\n",
       "      <td>126</td>\n",
       "      <td>117</td>\n",
       "      <td>1</td>\n",
       "      <td>0</td>\n",
       "    </tr>\n",
       "    <tr>\n",
       "      <th>1</th>\n",
       "      <td>Boston</td>\n",
       "      <td>Miami</td>\n",
       "      <td>111</td>\n",
       "      <td>104</td>\n",
       "      <td>0</td>\n",
       "      <td>1</td>\n",
       "    </tr>\n",
       "    <tr>\n",
       "      <th>2</th>\n",
       "      <td>Boston</td>\n",
       "      <td>Orlando</td>\n",
       "      <td>126</td>\n",
       "      <td>120</td>\n",
       "      <td>0</td>\n",
       "      <td>1</td>\n",
       "    </tr>\n",
       "    <tr>\n",
       "      <th>3</th>\n",
       "      <td>Boston</td>\n",
       "      <td>Chicago</td>\n",
       "      <td>102</td>\n",
       "      <td>120</td>\n",
       "      <td>0</td>\n",
       "      <td>1</td>\n",
       "    </tr>\n",
       "    <tr>\n",
       "      <th>4</th>\n",
       "      <td>Boston</td>\n",
       "      <td>Cleveland</td>\n",
       "      <td>123</td>\n",
       "      <td>132</td>\n",
       "      <td>1</td>\n",
       "      <td>0</td>\n",
       "    </tr>\n",
       "  </tbody>\n",
       "</table>\n",
       "</div>"
      ],
      "text/plain": [
       "   Team 1        Team 2  Team 1 Points  Team 2 Points  Team 1 Location  \\\n",
       "0  Boston  Philadelphia            126            117                1   \n",
       "1  Boston         Miami            111            104                0   \n",
       "2  Boston       Orlando            126            120                0   \n",
       "3  Boston       Chicago            102            120                0   \n",
       "4  Boston     Cleveland            123            132                1   \n",
       "\n",
       "   Team 2 Location  \n",
       "0                0  \n",
       "1                1  \n",
       "2                1  \n",
       "3                1  \n",
       "4                0  "
      ]
     },
     "execution_count": 3,
     "metadata": {},
     "output_type": "execute_result"
    }
   ],
   "source": [
    "df = pd.read_csv(r'./NBA_Temp2022_2023.csv') # importar el archivo csv\n",
    "df = df.iloc[:, 0:6] # seleccionar solo las primeras 6 columnas del archivo csv\n",
    "df.head() # imprimir las primeras 5 filas"
   ]
  },
  {
   "cell_type": "code",
   "execution_count": 4,
   "id": "b5b023d4",
   "metadata": {},
   "outputs": [
    {
     "data": {
      "text/html": [
       "<div>\n",
       "<style scoped>\n",
       "    .dataframe tbody tr th:only-of-type {\n",
       "        vertical-align: middle;\n",
       "    }\n",
       "\n",
       "    .dataframe tbody tr th {\n",
       "        vertical-align: top;\n",
       "    }\n",
       "\n",
       "    .dataframe thead th {\n",
       "        text-align: right;\n",
       "    }\n",
       "</style>\n",
       "<table border=\"1\" class=\"dataframe\">\n",
       "  <thead>\n",
       "    <tr style=\"text-align: right;\">\n",
       "      <th></th>\n",
       "      <th>Team 1</th>\n",
       "      <th>Team 2</th>\n",
       "      <th>Team 1 Points</th>\n",
       "      <th>Team 1 Location</th>\n",
       "      <th>Team 2 Location</th>\n",
       "    </tr>\n",
       "  </thead>\n",
       "  <tbody>\n",
       "    <tr>\n",
       "      <th>273</th>\n",
       "      <td>Denver</td>\n",
       "      <td>Milwaukee</td>\n",
       "      <td>129</td>\n",
       "      <td>1</td>\n",
       "      <td>0</td>\n",
       "    </tr>\n",
       "    <tr>\n",
       "      <th>259</th>\n",
       "      <td>Denver</td>\n",
       "      <td>Cleveland</td>\n",
       "      <td>115</td>\n",
       "      <td>0</td>\n",
       "      <td>1</td>\n",
       "    </tr>\n",
       "    <tr>\n",
       "      <th>30</th>\n",
       "      <td>Boston</td>\n",
       "      <td>Orlando</td>\n",
       "      <td>92</td>\n",
       "      <td>1</td>\n",
       "      <td>0</td>\n",
       "    </tr>\n",
       "    <tr>\n",
       "      <th>22</th>\n",
       "      <td>Boston</td>\n",
       "      <td>Miami</td>\n",
       "      <td>116</td>\n",
       "      <td>1</td>\n",
       "      <td>0</td>\n",
       "    </tr>\n",
       "    <tr>\n",
       "      <th>277</th>\n",
       "      <td>Denver</td>\n",
       "      <td>Golden State</td>\n",
       "      <td>112</td>\n",
       "      <td>1</td>\n",
       "      <td>0</td>\n",
       "    </tr>\n",
       "  </tbody>\n",
       "</table>\n",
       "</div>"
      ],
      "text/plain": [
       "     Team 1        Team 2  Team 1 Points  Team 1 Location  Team 2 Location\n",
       "273  Denver     Milwaukee            129                1                0\n",
       "259  Denver     Cleveland            115                0                1\n",
       "30   Boston       Orlando             92                1                0\n",
       "22   Boston         Miami            116                1                0\n",
       "277  Denver  Golden State            112                1                0"
      ]
     },
     "execution_count": 4,
     "metadata": {},
     "output_type": "execute_result"
    }
   ],
   "source": [
    "# dividimos el dataset en 2, train y test\n",
    "train_set, test_set = train_test_split(df, test_size=0.2, random_state=42)\n",
    "X = train_set.drop(\"Team 2 Points\", axis=1)\n",
    "y = train_set[\"Team 2 Points\"].copy()\n",
    "X[[\"Team 1 Points\"]] = X[[\"Team 1 Points\"]].astype(int)\n",
    "X.head()"
   ]
  },
  {
   "cell_type": "code",
   "execution_count": 19,
   "id": "cc3adf17",
   "metadata": {},
   "outputs": [
    {
     "data": {
      "text/html": [
       "<div>\n",
       "<style scoped>\n",
       "    .dataframe tbody tr th:only-of-type {\n",
       "        vertical-align: middle;\n",
       "    }\n",
       "\n",
       "    .dataframe tbody tr th {\n",
       "        vertical-align: top;\n",
       "    }\n",
       "\n",
       "    .dataframe thead th {\n",
       "        text-align: right;\n",
       "    }\n",
       "</style>\n",
       "<table border=\"1\" class=\"dataframe\">\n",
       "  <thead>\n",
       "    <tr style=\"text-align: right;\">\n",
       "      <th></th>\n",
       "      <th>Team 1</th>\n",
       "      <th>Team 2</th>\n",
       "      <th>Team 1 Points</th>\n",
       "      <th>Team 1 Location</th>\n",
       "      <th>Team 2 Location</th>\n",
       "    </tr>\n",
       "  </thead>\n",
       "  <tbody>\n",
       "    <tr>\n",
       "      <th>273</th>\n",
       "      <td>1.0</td>\n",
       "      <td>16.0</td>\n",
       "      <td>0.711864</td>\n",
       "      <td>1</td>\n",
       "      <td>0</td>\n",
       "    </tr>\n",
       "    <tr>\n",
       "      <th>259</th>\n",
       "      <td>1.0</td>\n",
       "      <td>5.0</td>\n",
       "      <td>0.474576</td>\n",
       "      <td>0</td>\n",
       "      <td>1</td>\n",
       "    </tr>\n",
       "    <tr>\n",
       "      <th>30</th>\n",
       "      <td>0.0</td>\n",
       "      <td>21.0</td>\n",
       "      <td>0.084746</td>\n",
       "      <td>1</td>\n",
       "      <td>0</td>\n",
       "    </tr>\n",
       "    <tr>\n",
       "      <th>22</th>\n",
       "      <td>0.0</td>\n",
       "      <td>15.0</td>\n",
       "      <td>0.491525</td>\n",
       "      <td>1</td>\n",
       "      <td>0</td>\n",
       "    </tr>\n",
       "    <tr>\n",
       "      <th>277</th>\n",
       "      <td>1.0</td>\n",
       "      <td>9.0</td>\n",
       "      <td>0.423729</td>\n",
       "      <td>1</td>\n",
       "      <td>0</td>\n",
       "    </tr>\n",
       "  </tbody>\n",
       "</table>\n",
       "</div>"
      ],
      "text/plain": [
       "     Team 1  Team 2  Team 1 Points  Team 1 Location  Team 2 Location\n",
       "273     1.0    16.0       0.711864                1                0\n",
       "259     1.0     5.0       0.474576                0                1\n",
       "30      0.0    21.0       0.084746                1                0\n",
       "22      0.0    15.0       0.491525                1                0\n",
       "277     1.0     9.0       0.423729                1                0"
      ]
     },
     "execution_count": 19,
     "metadata": {},
     "output_type": "execute_result"
    }
   ],
   "source": [
    "# necesitamos convertir el texto a número\n",
    "# para esto usamos OrdinalEncoder\n",
    "# así pasamos de p. ej. \"Miami\" a 0\n",
    "encoder_team_01 = OrdinalEncoder()\n",
    "encoder_team_02 = OrdinalEncoder()\n",
    "X[[\"Team 1\"]] = encoder_team_01.fit_transform(X[[\"Team 1\"]])\n",
    "X[[\"Team 2\"]] = encoder_team_02.fit_transform(X[[\"Team 2\"]])\n",
    "\n",
    "# y también necesitamos normalizar los valores (valores entre 0 - 1)\n",
    "scaler = MinMaxScaler()\n",
    "# los puntos ahora están en un rango de 0 a 1\n",
    "X[[\"Team 1 Points\"]] = scaler.fit_transform(X[[\"Team 1 Points\"]])\n",
    "X.head()"
   ]
  },
  {
   "cell_type": "code",
   "execution_count": 6,
   "id": "b425f2c3",
   "metadata": {},
   "outputs": [
    {
     "name": "stdout",
     "output_type": "stream",
     "text": [
      "Puntos Equipo 2 (Predicciones):  [112.90404719 113.43185953 101.35991236 108.81828498 108.0208285 ]\n",
      "Puntos Equipo 2 (Originales):  [106, 109, 95, 120, 110]\n",
      "Error Promedio:  6.880459322098543\n"
     ]
    }
   ],
   "source": [
    "# entrenar primer modelo - LinearRegression (regresión lineal)\n",
    "lin_reg = LinearRegression()\n",
    "lin_reg.fit(X, y)\n",
    "\n",
    "# probar con filas aleatorias del training set\n",
    "data = X.iloc[:5]\n",
    "labels = y.iloc[:5]\n",
    "predictions_lin = lin_reg.predict(data)\n",
    "\n",
    "lin_metric = mean_squared_error(labels, predictions_lin)\n",
    "lin_metric_s = np.sqrt(lin_metric)\n",
    "\n",
    "print(\"Puntos Equipo 2 (Predicciones): \", predictions_lin)\n",
    "print(\"Puntos Equipo 2 (Originales): \", list(labels))\n",
    "print(\"Error Promedio: \", lin_metric_s)"
   ]
  },
  {
   "cell_type": "code",
   "execution_count": 7,
   "id": "d8330d9f",
   "metadata": {},
   "outputs": [
    {
     "name": "stdout",
     "output_type": "stream",
     "text": [
      "Puntos Equipo 2 (Predicciones):  [106.  109.   95.  121.5 110. ]\n",
      "Puntos Equipo 2 (Originales):  [106, 109, 95, 120, 110]\n",
      "Error Promedio:  0.6708203932499369\n"
     ]
    }
   ],
   "source": [
    "# entrenar segundo modelo - DecisionTreeRegressor\n",
    "tree_reg = DecisionTreeRegressor()\n",
    "tree_reg.fit(X, y)\n",
    "\n",
    "# probar con las mismas filas aleatorias del training set\n",
    "data = X.iloc[:5]\n",
    "labels = y.iloc[:5]\n",
    "predictions_tree = tree_reg.predict(data)\n",
    "\n",
    "tree_metric = mean_squared_error(labels, predictions_tree)\n",
    "tree_metric_s = np.sqrt(tree_metric)\n",
    "\n",
    "print(\"Puntos Equipo 2 (Predicciones): \", predictions_tree)\n",
    "print(\"Puntos Equipo 2 (Originales): \", list(labels))\n",
    "print(\"Error Promedio: \", tree_metric_s) # error muy bajo, posible overfitting"
   ]
  },
  {
   "cell_type": "code",
   "execution_count": 8,
   "id": "ad2c8e7b",
   "metadata": {},
   "outputs": [
    {
     "name": "stdout",
     "output_type": "stream",
     "text": [
      "Error Promedio:  14.102343786741793\n"
     ]
    }
   ],
   "source": [
    "# medir error con cross-validation\n",
    "scores = cross_val_score(tree_reg, X, y, scoring=\"neg_mean_squared_error\", cv=10)\n",
    "tree_metric_s = np.sqrt(-scores)\n",
    "print(\"Error Promedio: \", tree_metric_s.mean()) # el error real es de 13.87 puntos"
   ]
  },
  {
   "cell_type": "code",
   "execution_count": 15,
   "id": "4a1abc9e",
   "metadata": {},
   "outputs": [
    {
     "name": "stdout",
     "output_type": "stream",
     "text": [
      "Error Promedio Modelo (LinearRegression):  28.043524216905162\n",
      "Error Promedio Modelo (DecisionTreeRegressor):  23.587163738641856\n"
     ]
    }
   ],
   "source": [
    "# último paso, evaluar ambos modelos con el test set\n",
    "X_test = test_set.drop(\"Team 2 Points\", axis=1)\n",
    "y_test = test_set[\"Team 2 Points\"].copy()\n",
    "\n",
    "# tambien necesitamos modificar X_test para \n",
    "# poder hacer predicciones con esos datos\n",
    "encoder_test_01 = OrdinalEncoder()\n",
    "encoder_test_02 = OrdinalEncoder()\n",
    "X_test[[\"Team 1\"]] = encoder_test_01.fit_transform(X_test[[\"Team 1\"]])\n",
    "X_test[[\"Team 2\"]] = encoder_test_02.fit_transform(X_test[[\"Team 2\"]])\n",
    "scaler = MinMaxScaler()\n",
    "X_test[[\"Team 1 Points\"]] = scaler.fit_transform(X_test[[\"Team 1 Points\"]])\n",
    "\n",
    "final_predictions_lin = lin_reg.predict(X_test) # predicciones con modelo LinearRegression\n",
    "final_predictions_tree = tree_reg.predict(X_test) # predicciones con modelo DecisionTreeRegressor\n",
    "\n",
    "# calculamos los errores de las útlimas predicciones\n",
    "lin_test_metric = mean_squared_error(y_test, final_predictions_lin)\n",
    "lin_test_metric = np.sqrt(lin_test_metric)\n",
    "print(\"Error Promedio Modelo (LinearRegression): \", lin_test_metric)\n",
    "\n",
    "scores = cross_val_score(tree_reg, X_test, y_test, scoring=\"neg_mean_squared_error\", cv=10)\n",
    "tree_metric_s = np.sqrt(-scores)\n",
    "print(\"Error Promedio Modelo (DecisionTreeRegressor): \", tree_metric_s.mean())"
   ]
  },
  {
   "cell_type": "code",
   "execution_count": 18,
   "id": "cea8ca3e",
   "metadata": {},
   "outputs": [
    {
     "name": "stdout",
     "output_type": "stream",
     "text": [
      "------------ Resultados -------------\n",
      "---------- Denver vs Miami ----------\n",
      "Juego 1: Denver 114 - 112 Miami\n",
      "Juego 2: Denver 109 - 105 Miami\n",
      "Juego 3: Denver 110 - 103 Miami\n",
      "Juego 4: Denver 108 - 100 Miami\n",
      "-------------------------------------\n"
     ]
    }
   ],
   "source": [
    "warnings.filterwarnings('ignore') # ignorar advertencias\n",
    "# ahora es momento de predecir el resultado de las finales...\n",
    "# Team 1: Denver = 1, Miami = 2\n",
    "# Team 2: Denver = 7, Miami = 15\n",
    "denver_games = pd.read_csv(r'./Finals.csv') # importar el archivo csv\n",
    "denver_games = denver_games.drop(\"Team 2 Points\", axis=1)\n",
    "original_points = denver_games[[\"Team 1 Points\"]].to_numpy()\n",
    "\n",
    "scaler = MinMaxScaler()\n",
    "denver_games[[\"Team 1 Points\"]] = scaler.fit_transform(denver_games[[\"Team 1 Points\"]])\n",
    "points_predictions = lin_reg.predict(denver_games)\n",
    "\n",
    "denver = 0\n",
    "miami = 0\n",
    "print(\"------------ Resultados -------------\")\n",
    "print(\"---------- Denver vs Miami ----------\")\n",
    "for i in range(0, len(points_predictions)):\n",
    "    if denver <= 3 and miami <= 3:\n",
    "        if original_points[i][0] > int(points_predictions[i]):\n",
    "            denver += 1\n",
    "        else:\n",
    "            miami += 1\n",
    "        print(f\"Juego {i + 1}: Denver {original_points[i][0]} - {int(points_predictions[i])} Miami\")\n",
    "    else:\n",
    "        break\n",
    "print(\"-------------------------------------\")"
   ]
  }
 ],
 "metadata": {
  "kernelspec": {
   "display_name": "Python 3 (ipykernel)",
   "language": "python",
   "name": "python3"
  },
  "language_info": {
   "codemirror_mode": {
    "name": "ipython",
    "version": 3
   },
   "file_extension": ".py",
   "mimetype": "text/x-python",
   "name": "python",
   "nbconvert_exporter": "python",
   "pygments_lexer": "ipython3",
   "version": "3.11.3"
  }
 },
 "nbformat": 4,
 "nbformat_minor": 5
}
